{
 "cells": [
  {
   "cell_type": "code",
   "execution_count": 1,
   "metadata": {},
   "outputs": [],
   "source": [
    "import sys\n",
    "import os\n",
    "import pandas as pd\n",
    "import numpy as np\n",
    "\n",
    "from bs4 import BeautifulSoup\n",
    "from selenium import webdriver\n",
    "import time\n",
    "import datetime as dt\n"
   ]
  },
  {
   "cell_type": "code",
   "execution_count": 2,
   "metadata": {},
   "outputs": [
    {
     "ename": "SessionNotCreatedException",
     "evalue": "Message: session not created: This version of ChromeDriver only supports Chrome version 91\nCurrent browser version is 94.0.4606.81 with binary path C:\\Program Files\\Google\\Chrome\\Application\\chrome.exe\n",
     "output_type": "error",
     "traceback": [
      "\u001b[1;31m---------------------------------------------------------------------------\u001b[0m",
      "\u001b[1;31mSessionNotCreatedException\u001b[0m                Traceback (most recent call last)",
      "\u001b[1;32m<ipython-input-2-6849bf941aab>\u001b[0m in \u001b[0;36m<module>\u001b[1;34m\u001b[0m\n\u001b[0;32m      1\u001b[0m \u001b[1;31m#크롬브라우저 실행\u001b[0m\u001b[1;33m\u001b[0m\u001b[1;33m\u001b[0m\u001b[1;33m\u001b[0m\u001b[0m\n\u001b[0;32m      2\u001b[0m \u001b[0mpath\u001b[0m\u001b[1;33m=\u001b[0m \u001b[1;33m(\u001b[0m\u001b[1;34m\"C:\\\\Users\\\\qkd78\\\\Desktop\\\\방성현\\\\잡다+증명사진+인턴\\\\dwellon\\\\소비문화 크롤링\\\\chromedriver.exe\"\u001b[0m\u001b[1;33m)\u001b[0m\u001b[1;33m\u001b[0m\u001b[1;33m\u001b[0m\u001b[0m\n\u001b[1;32m----> 3\u001b[1;33m \u001b[0mdriver\u001b[0m \u001b[1;33m=\u001b[0m \u001b[0mwebdriver\u001b[0m\u001b[1;33m.\u001b[0m\u001b[0mChrome\u001b[0m\u001b[1;33m(\u001b[0m\u001b[0mpath\u001b[0m\u001b[1;33m)\u001b[0m\u001b[1;33m\u001b[0m\u001b[1;33m\u001b[0m\u001b[0m\n\u001b[0m\u001b[0;32m      4\u001b[0m \u001b[1;33m\u001b[0m\u001b[0m\n\u001b[0;32m      5\u001b[0m \u001b[0mtimespace\u001b[0m \u001b[1;33m=\u001b[0m \u001b[1;36m3\u001b[0m\u001b[1;33m\u001b[0m\u001b[1;33m\u001b[0m\u001b[0m\n",
      "\u001b[1;32m~\\anaconda3\\lib\\site-packages\\selenium\\webdriver\\chrome\\webdriver.py\u001b[0m in \u001b[0;36m__init__\u001b[1;34m(self, executable_path, port, options, service_args, desired_capabilities, service_log_path, chrome_options, keep_alive)\u001b[0m\n\u001b[0;32m     74\u001b[0m \u001b[1;33m\u001b[0m\u001b[0m\n\u001b[0;32m     75\u001b[0m         \u001b[1;32mtry\u001b[0m\u001b[1;33m:\u001b[0m\u001b[1;33m\u001b[0m\u001b[1;33m\u001b[0m\u001b[0m\n\u001b[1;32m---> 76\u001b[1;33m             RemoteWebDriver.__init__(\n\u001b[0m\u001b[0;32m     77\u001b[0m                 \u001b[0mself\u001b[0m\u001b[1;33m,\u001b[0m\u001b[1;33m\u001b[0m\u001b[1;33m\u001b[0m\u001b[0m\n\u001b[0;32m     78\u001b[0m                 command_executor=ChromeRemoteConnection(\n",
      "\u001b[1;32m~\\anaconda3\\lib\\site-packages\\selenium\\webdriver\\remote\\webdriver.py\u001b[0m in \u001b[0;36m__init__\u001b[1;34m(self, command_executor, desired_capabilities, browser_profile, proxy, keep_alive, file_detector, options)\u001b[0m\n\u001b[0;32m    155\u001b[0m             warnings.warn(\"Please use FirefoxOptions to set browser profile\",\n\u001b[0;32m    156\u001b[0m                           DeprecationWarning, stacklevel=2)\n\u001b[1;32m--> 157\u001b[1;33m         \u001b[0mself\u001b[0m\u001b[1;33m.\u001b[0m\u001b[0mstart_session\u001b[0m\u001b[1;33m(\u001b[0m\u001b[0mcapabilities\u001b[0m\u001b[1;33m,\u001b[0m \u001b[0mbrowser_profile\u001b[0m\u001b[1;33m)\u001b[0m\u001b[1;33m\u001b[0m\u001b[1;33m\u001b[0m\u001b[0m\n\u001b[0m\u001b[0;32m    158\u001b[0m         \u001b[0mself\u001b[0m\u001b[1;33m.\u001b[0m\u001b[0m_switch_to\u001b[0m \u001b[1;33m=\u001b[0m \u001b[0mSwitchTo\u001b[0m\u001b[1;33m(\u001b[0m\u001b[0mself\u001b[0m\u001b[1;33m)\u001b[0m\u001b[1;33m\u001b[0m\u001b[1;33m\u001b[0m\u001b[0m\n\u001b[0;32m    159\u001b[0m         \u001b[0mself\u001b[0m\u001b[1;33m.\u001b[0m\u001b[0m_mobile\u001b[0m \u001b[1;33m=\u001b[0m \u001b[0mMobile\u001b[0m\u001b[1;33m(\u001b[0m\u001b[0mself\u001b[0m\u001b[1;33m)\u001b[0m\u001b[1;33m\u001b[0m\u001b[1;33m\u001b[0m\u001b[0m\n",
      "\u001b[1;32m~\\anaconda3\\lib\\site-packages\\selenium\\webdriver\\remote\\webdriver.py\u001b[0m in \u001b[0;36mstart_session\u001b[1;34m(self, capabilities, browser_profile)\u001b[0m\n\u001b[0;32m    250\u001b[0m         parameters = {\"capabilities\": w3c_caps,\n\u001b[0;32m    251\u001b[0m                       \"desiredCapabilities\": capabilities}\n\u001b[1;32m--> 252\u001b[1;33m         \u001b[0mresponse\u001b[0m \u001b[1;33m=\u001b[0m \u001b[0mself\u001b[0m\u001b[1;33m.\u001b[0m\u001b[0mexecute\u001b[0m\u001b[1;33m(\u001b[0m\u001b[0mCommand\u001b[0m\u001b[1;33m.\u001b[0m\u001b[0mNEW_SESSION\u001b[0m\u001b[1;33m,\u001b[0m \u001b[0mparameters\u001b[0m\u001b[1;33m)\u001b[0m\u001b[1;33m\u001b[0m\u001b[1;33m\u001b[0m\u001b[0m\n\u001b[0m\u001b[0;32m    253\u001b[0m         \u001b[1;32mif\u001b[0m \u001b[1;34m'sessionId'\u001b[0m \u001b[1;32mnot\u001b[0m \u001b[1;32min\u001b[0m \u001b[0mresponse\u001b[0m\u001b[1;33m:\u001b[0m\u001b[1;33m\u001b[0m\u001b[1;33m\u001b[0m\u001b[0m\n\u001b[0;32m    254\u001b[0m             \u001b[0mresponse\u001b[0m \u001b[1;33m=\u001b[0m \u001b[0mresponse\u001b[0m\u001b[1;33m[\u001b[0m\u001b[1;34m'value'\u001b[0m\u001b[1;33m]\u001b[0m\u001b[1;33m\u001b[0m\u001b[1;33m\u001b[0m\u001b[0m\n",
      "\u001b[1;32m~\\anaconda3\\lib\\site-packages\\selenium\\webdriver\\remote\\webdriver.py\u001b[0m in \u001b[0;36mexecute\u001b[1;34m(self, driver_command, params)\u001b[0m\n\u001b[0;32m    319\u001b[0m         \u001b[0mresponse\u001b[0m \u001b[1;33m=\u001b[0m \u001b[0mself\u001b[0m\u001b[1;33m.\u001b[0m\u001b[0mcommand_executor\u001b[0m\u001b[1;33m.\u001b[0m\u001b[0mexecute\u001b[0m\u001b[1;33m(\u001b[0m\u001b[0mdriver_command\u001b[0m\u001b[1;33m,\u001b[0m \u001b[0mparams\u001b[0m\u001b[1;33m)\u001b[0m\u001b[1;33m\u001b[0m\u001b[1;33m\u001b[0m\u001b[0m\n\u001b[0;32m    320\u001b[0m         \u001b[1;32mif\u001b[0m \u001b[0mresponse\u001b[0m\u001b[1;33m:\u001b[0m\u001b[1;33m\u001b[0m\u001b[1;33m\u001b[0m\u001b[0m\n\u001b[1;32m--> 321\u001b[1;33m             \u001b[0mself\u001b[0m\u001b[1;33m.\u001b[0m\u001b[0merror_handler\u001b[0m\u001b[1;33m.\u001b[0m\u001b[0mcheck_response\u001b[0m\u001b[1;33m(\u001b[0m\u001b[0mresponse\u001b[0m\u001b[1;33m)\u001b[0m\u001b[1;33m\u001b[0m\u001b[1;33m\u001b[0m\u001b[0m\n\u001b[0m\u001b[0;32m    322\u001b[0m             response['value'] = self._unwrap_value(\n\u001b[0;32m    323\u001b[0m                 response.get('value', None))\n",
      "\u001b[1;32m~\\anaconda3\\lib\\site-packages\\selenium\\webdriver\\remote\\errorhandler.py\u001b[0m in \u001b[0;36mcheck_response\u001b[1;34m(self, response)\u001b[0m\n\u001b[0;32m    240\u001b[0m                 \u001b[0malert_text\u001b[0m \u001b[1;33m=\u001b[0m \u001b[0mvalue\u001b[0m\u001b[1;33m[\u001b[0m\u001b[1;34m'alert'\u001b[0m\u001b[1;33m]\u001b[0m\u001b[1;33m.\u001b[0m\u001b[0mget\u001b[0m\u001b[1;33m(\u001b[0m\u001b[1;34m'text'\u001b[0m\u001b[1;33m)\u001b[0m\u001b[1;33m\u001b[0m\u001b[1;33m\u001b[0m\u001b[0m\n\u001b[0;32m    241\u001b[0m             \u001b[1;32mraise\u001b[0m \u001b[0mexception_class\u001b[0m\u001b[1;33m(\u001b[0m\u001b[0mmessage\u001b[0m\u001b[1;33m,\u001b[0m \u001b[0mscreen\u001b[0m\u001b[1;33m,\u001b[0m \u001b[0mstacktrace\u001b[0m\u001b[1;33m,\u001b[0m \u001b[0malert_text\u001b[0m\u001b[1;33m)\u001b[0m\u001b[1;33m\u001b[0m\u001b[1;33m\u001b[0m\u001b[0m\n\u001b[1;32m--> 242\u001b[1;33m         \u001b[1;32mraise\u001b[0m \u001b[0mexception_class\u001b[0m\u001b[1;33m(\u001b[0m\u001b[0mmessage\u001b[0m\u001b[1;33m,\u001b[0m \u001b[0mscreen\u001b[0m\u001b[1;33m,\u001b[0m \u001b[0mstacktrace\u001b[0m\u001b[1;33m)\u001b[0m\u001b[1;33m\u001b[0m\u001b[1;33m\u001b[0m\u001b[0m\n\u001b[0m\u001b[0;32m    243\u001b[0m \u001b[1;33m\u001b[0m\u001b[0m\n\u001b[0;32m    244\u001b[0m     \u001b[1;32mdef\u001b[0m \u001b[0m_value_or_default\u001b[0m\u001b[1;33m(\u001b[0m\u001b[0mself\u001b[0m\u001b[1;33m,\u001b[0m \u001b[0mobj\u001b[0m\u001b[1;33m,\u001b[0m \u001b[0mkey\u001b[0m\u001b[1;33m,\u001b[0m \u001b[0mdefault\u001b[0m\u001b[1;33m)\u001b[0m\u001b[1;33m:\u001b[0m\u001b[1;33m\u001b[0m\u001b[1;33m\u001b[0m\u001b[0m\n",
      "\u001b[1;31mSessionNotCreatedException\u001b[0m: Message: session not created: This version of ChromeDriver only supports Chrome version 91\nCurrent browser version is 94.0.4606.81 with binary path C:\\Program Files\\Google\\Chrome\\Application\\chrome.exe\n"
     ]
    }
   ],
   "source": [
    "#크롬브라우저 실행\n",
    "path= (\"C:\\\\Users\\\\qkd78\\\\Desktop\\\\방성현\\\\잡다+증명사진+인턴\\\\dwellon\\\\소비문화 크롤링\\\\chromedriver.exe\")\n",
    "driver = webdriver.Chrome(path)\n",
    "\n",
    "timespace = 3\n",
    "startdate=dt.date(year=2021, month=9, day=1)\n",
    "enddate=dt.date(year=2021, month=10, day=1)\n",
    "untildate=startdate+dt.timedelta(days=timespace)\n"
   ]
  },
  {
   "cell_type": "code",
   "execution_count": null,
   "metadata": {},
   "outputs": [],
   "source": [
    "daum_dict = {'date': [], 'text': [], 'title': []}\n"
   ]
  },
  {
   "cell_type": "code",
   "execution_count": 9,
   "metadata": {
    "scrolled": false
   },
   "outputs": [],
   "source": [
    "keyword = ['케이타운포유']\n",
    "\n",
    "for keyword in keyword:\n",
    "    \n",
    "\n",
    "    while not enddate <= startdate:\n",
    "        character = \"-\"\n",
    "        edit_startdate = str(startdate)\n",
    "        for x in range(len(character)):\n",
    "            edit_startdate = edit_startdate.replace(character[x], \"\")\n",
    "\n",
    "        edit_enddate = str(enddate)\n",
    "        for x in range(len(character)):\n",
    "            edit_enddate = edit_enddate.replace(character[x], \"\")\n",
    "            edit_untildate = str(untildate)\n",
    "\n",
    "        for x in range(len(character)):\n",
    "            edit_untildate = edit_untildate.replace(character[x], \"\")\n",
    "\n",
    "        url ='https://search.daum.net/search?w=blog&lpp=10&nil_profile=vsearch&nil_src=blog&q='+keyword+'&sd='+edit_startdate+'000000&ed='+edit_untildate+'235959&period=u'\n",
    "\n",
    "        driver.get(url)\n",
    "        pgnum =1\n",
    "\n",
    "        while True:\n",
    "\n",
    "            # title 수집\n",
    "            info_title = driver.find_elements_by_css_selector('a.f_link_b')\n",
    "\n",
    "            for k in info_title:\n",
    "                daum_dict['title'].append(k.text)\n",
    "\n",
    "            # date수집\n",
    "\n",
    "            info_date = driver.find_elements_by_css_selector('span.f_nb.date')\n",
    "\n",
    "            for k in info_date:\n",
    "                daum_dict['date'].append(k.text)\n",
    "\n",
    "            # 본문수집\n",
    "            info_text = driver.find_elements_by_css_selector('p.f_eb.desc')\n",
    "\n",
    "            for k in info_text:\n",
    "                daum_dict['text'].append(k.text)\n",
    "\n",
    "            if len(info_text)<len(info_date):\n",
    "                k=0\n",
    "                daum_dict['text'].append(\"삭제요망\")\n",
    "            pgnum+=1\n",
    "\n",
    "            url ='https://search.daum.net/search?w=blog&lpp=10&nil_profile=vsearch&nil_src=blog&q='+keyword+'&sd='+edit_startdate+'000000&ed='+edit_untildate+'235959&period=u&DA=PGD&page='+str(pgnum)\n",
    "\n",
    "            driver.get(url)                          \n",
    "\n",
    "            try:\n",
    "                driver.find_element_by_xpath('/html/body/article/article/div/article/div/div[4]/div/div[4]/span/span[3]/a')\n",
    "            except:\n",
    "                break\n",
    "                \n",
    "\n",
    "\n",
    "\n",
    "\n",
    "\n",
    "\n",
    "\n",
    "\n",
    "        startdate = untildate\n",
    "        untildate += dt.timedelta(days=timespace)\n",
    "    a=list(daum_dict['text'])\n",
    "    b=list(daum_dict['date'])\n",
    "    c=list(daum_dict['title'])\n",
    "\n",
    "    f=len(b)-len(a)\n",
    "    j = len(a)-len(c)\n",
    "    for x in range(f):\n",
    "        daum_dict['text'].append('삭제요망')\n",
    "    for x in range(j):\n",
    "        daum_dict['title'].append('삭제요망')\n",
    "    df = pd.DataFrame(daum_dict)\n",
    "    df.to_csv('%s 다음.csv'%keyword)\n",
    "\n",
    "\n",
    "\n",
    "        "
   ]
  },
  {
   "cell_type": "code",
   "execution_count": 5,
   "metadata": {},
   "outputs": [],
   "source": [
    "a=list(daum_dict['text'])\n",
    "b=list(daum_dict['date'])\n",
    "c=list(daum_dict['title'])\n",
    "\n",
    "f=len(b)-len(a)\n",
    "j = len(a)-len(c)\n",
    "for x in range(f):\n",
    "    daum_dict['text'].append('삭제요망')\n",
    "for x in range(j):\n",
    "    daum_dict['title'].append('삭제요망')\n",
    "df = pd.DataFrame(daum_dict)\n",
    "df.to_csv('%s 다음200907부터.csv'%keyword)\n"
   ]
  },
  {
   "cell_type": "code",
   "execution_count": 9,
   "metadata": {},
   "outputs": [
    {
     "name": "stdout",
     "output_type": "stream",
     "text": [
      "566630\n",
      "566630\n",
      "566630\n"
     ]
    }
   ],
   "source": [
    "a=list(daum_dict['text'])\n",
    "b=list(daum_dict['date'])\n",
    "c=list(daum_dict['title'])\n",
    "\n",
    "f=len(b)-len(a)\n",
    "j = len(a)-len(c)\n",
    "for x in range(f):\n",
    "    daum_dict['text'].append('삭제요망')\n",
    "for x in range(j):\n",
    "    daum_dict['title'].append('삭제요망')\n",
    "\n",
    "\n",
    "print(len(daum_dict['text']))\n",
    "print(len(daum_dict['date']))\n",
    "print(len(daum_dict['title']))"
   ]
  },
  {
   "cell_type": "code",
   "execution_count": 10,
   "metadata": {
    "scrolled": true
   },
   "outputs": [
    {
     "name": "stdout",
     "output_type": "stream",
     "text": [
      "         date                                               text  \\\n",
      "0  2019.05.31  고민이 되었는데 원래 가보기로 했던 곳에 가기로 했다. 연남동 루프탑 카페, 공간내...   \n",
      "1  2019.06.01  하루 드뎌 세번째 카페 입니다. 반가운 사람을 만난 부산진구 신상카페 향미공간 향미...   \n",
      "2  2019.06.01  한 달에 한 번 있는 휴무일이었어요! 새벽벌 도서관은 다시 가기 싫고... 공부공간...   \n",
      "3  2019.05.30  사랑스러운 아가들의 추억을 만들어 주는 공간 공간밀도 안녕하세요:) 이번에 소개해 ...   \n",
      "4  2019.06.02  시간의 공간 13:00 - 22:00 월요일 휴무 생긴지는 조금 된 거 같은데 많이...   \n",
      "\n",
      "                                   title  \n",
      "0       연남동 카페, 루프탑 공간내모든(space nemoden)  \n",
      "1                         향미공간 부산진구 신상카페  \n",
      "2  부산대 스터디카페 모먼트랩 !! 공부하기 정말 좋은 공간이었어요!!  \n",
      "3                        지금테이블_동탄 [공간밀도]  \n",
      "4                     대전 갈마동 카페 : 시간의 공간  \n"
     ]
    }
   ],
   "source": [
    "df = pd.DataFrame(daum_dict)\n",
    "print(df.head())\n"
   ]
  },
  {
   "cell_type": "code",
   "execution_count": 11,
   "metadata": {},
   "outputs": [],
   "source": [
    "df.to_csv('공간190530부터.csv')\n",
    "\n",
    "\n"
   ]
  },
  {
   "cell_type": "code",
   "execution_count": null,
   "metadata": {},
   "outputs": [],
   "source": []
  }
 ],
 "metadata": {
  "kernelspec": {
   "display_name": "Python 3",
   "language": "python",
   "name": "python3"
  },
  "language_info": {
   "codemirror_mode": {
    "name": "ipython",
    "version": 3
   },
   "file_extension": ".py",
   "mimetype": "text/x-python",
   "name": "python",
   "nbconvert_exporter": "python",
   "pygments_lexer": "ipython3",
   "version": "3.8.5"
  }
 },
 "nbformat": 4,
 "nbformat_minor": 4
}
